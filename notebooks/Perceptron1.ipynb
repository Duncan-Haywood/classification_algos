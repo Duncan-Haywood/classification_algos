{
 "cells": [
  {
   "cell_type": "code",
   "execution_count": 3,
   "metadata": {},
   "outputs": [],
   "source": [
    "from numpy import dot, array, add\n",
    "class Perceptron:\n",
    "    def __init__(self):\n",
    "        self.weights = array([])\n",
    "    def fit(self, x_data, y_data, iterations_n=100, learning_rate=0.1):\n",
    "        self.weights = array([0]*(len(x_data[0])))\n",
    "        for iteration in range(iterations_n):\n",
    "            for (x,y) in zip(x_data, y_data):\n",
    "                y_pred = self.predict(x)\n",
    "                if y_pred == y:\n",
    "                    continue\n",
    "                update = array([learning_rate*y*xi for xi in x])\n",
    "                self.weights = add(self.weights, update)\n",
    "    def predict(self, x):\n",
    "        dot_sum = dot(self.weights, x) ##numpy auto-transposes 1d arrays for dot\n",
    "        pred =int()\n",
    "        ## activation \n",
    "        if dot_sum > 0:\n",
    "            pred = 1\n",
    "        else: \n",
    "            pred = -1\n",
    "        return pred"
   ]
  },
  {
   "cell_type": "code",
   "execution_count": 4,
   "metadata": {},
   "outputs": [],
   "source": [
    "perc = Perceptron()"
   ]
  },
  {
   "cell_type": "code",
   "execution_count": 5,
   "metadata": {},
   "outputs": [
    {
     "name": "stdout",
     "output_type": "stream",
     "text": [
      "[[1, 0], [1, 1], [1, 2], [1, 3], [1, 4], [1, 5], [1, 6], [1, 7], [1, 8], [1, 9]]\n",
      "[-1, -1, -1, -1, -1, 1, 1, 1, 1, 1]\n"
     ]
    }
   ],
   "source": [
    "x_data = [[1,x] for x in range(10)]\n",
    "print(x_data)\n",
    "y_data = [*[-1]*5, *[1]*5]\n",
    "print(y_data)"
   ]
  },
  {
   "cell_type": "code",
   "execution_count": 6,
   "metadata": {},
   "outputs": [],
   "source": [
    "perc.fit(x_data, y_data)"
   ]
  },
  {
   "cell_type": "code",
   "execution_count": null,
   "metadata": {},
   "outputs": [],
   "source": []
  },
  {
   "cell_type": "code",
   "execution_count": null,
   "metadata": {},
   "outputs": [],
   "source": []
  }
 ],
 "metadata": {
  "kernelspec": {
   "display_name": "Python 3",
   "language": "python",
   "name": "python3"
  },
  "language_info": {
   "codemirror_mode": {
    "name": "ipython",
    "version": 3
   },
   "file_extension": ".py",
   "mimetype": "text/x-python",
   "name": "python",
   "nbconvert_exporter": "python",
   "pygments_lexer": "ipython3",
   "version": "3.8.3"
  }
 },
 "nbformat": 4,
 "nbformat_minor": 4
}
