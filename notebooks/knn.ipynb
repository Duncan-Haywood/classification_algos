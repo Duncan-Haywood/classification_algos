{
 "cells": [
  {
   "cell_type": "code",
   "execution_count": 1,
   "id": "accessory-provider",
   "metadata": {},
   "outputs": [],
   "source": [
    "import math\n",
    "import numpy as np\n",
    "import pandas as pd\n",
    "from IPython.display import display\n",
    "class Knn:\n",
    "    def __init__(self):\n",
    "        pass\n",
    "    def predict(self, data, new_point, k, class_label, p=2 ):\n",
    "        \"\"\"data is a pandas.dataframe with class_label in first column and \n",
    "        data rows for all the rest as numerical for ex. eucliean distance\"\"\"\n",
    "        data = data.copy()\n",
    "        distances = [distance(x_row.drop(class_label).numpy(), new_point, p) for index, x_row in data.iterrows()] ##. todo x_row\n",
    "        data['distances']=distances\n",
    "        data.distances.sort(ascending=True)\n",
    "        k_first = data.iloc[0:k]\n",
    "        classification = k_first.class_label.mode() ## pseudocode\n",
    "        return classification\n",
    "    @staticmethod\n",
    "    def distance(x1, x2, p=2):\n",
    "        terms = [abs(x1i-x2i)**p for x1i, x2i in zip(x1, x2)]\n",
    "        summed = sum(term for term in terms) ## todo syntax\n",
    "        distance_metric = summed**(1/p)\n",
    "        return distance_metric"
   ]
  },
  {
   "cell_type": "code",
   "execution_count": null,
   "id": "cross-consistency",
   "metadata": {},
   "outputs": [],
   "source": []
  }
 ],
 "metadata": {
  "kernelspec": {
   "display_name": "Python 3",
   "language": "python",
   "name": "python3"
  },
  "language_info": {
   "codemirror_mode": {
    "name": "ipython",
    "version": 3
   },
   "file_extension": ".py",
   "mimetype": "text/x-python",
   "name": "python",
   "nbconvert_exporter": "python",
   "pygments_lexer": "ipython3",
   "version": "3.8.5"
  }
 },
 "nbformat": 4,
 "nbformat_minor": 5
}
