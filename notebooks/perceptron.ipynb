{
 "cells": [
  {
   "cell_type": "code",
   "execution_count": 1,
   "id": "hundred-manchester",
   "metadata": {},
   "outputs": [],
   "source": [
    "from numpy import dot, array, add\n",
    "class Perceptron:\n",
    "    \"\"\"assumes x_data has the bias dimension in first position\n",
    "    (+1, -1) y-classification,\n",
    "    x can be multi-dimensional, x_data is a collection of (multi-dimensional) x points. y_data is likewise classification.\n",
    "    assumes x is uniform in length for all points\n",
    "    \"\"\"\n",
    "    def __init__(self):\n",
    "        self.weights = array([])\n",
    "    def fit(self, x_data, y_data, iterations_n=100, learning_rate=0.1):\n",
    "        self.weights = array([0]*(len(x_data[0])))\n",
    "        for iteration in range(iterations_n):\n",
    "            for (x,y) in zip(x_data, y_data):\n",
    "                y_pred = self.predict(x)\n",
    "                if y_pred == y:\n",
    "                    continue\n",
    "                update = array([learning_rate*y*xi for xi in x])\n",
    "                self.weights = add(self.weights, update)\n",
    "    def predict(self, x):\n",
    "        dot_sum = dot(self.weights, x) ##numpy auto-transposes 1d arrays for dot\n",
    "        pred =int()\n",
    "        ## activation\n",
    "        if dot_sum > 0:\n",
    "            pred = 1\n",
    "        else: \n",
    "            pred = -1\n",
    "        return pred       "
   ]
  },
  {
   "cell_type": "code",
   "execution_count": 50,
   "id": "little-record",
   "metadata": {},
   "outputs": [],
   "source": [
    "perc = Perceptron()"
   ]
  },
  {
   "cell_type": "code",
   "execution_count": 8,
   "id": "indonesian-browser",
   "metadata": {
    "collapsed": true
   },
   "outputs": [
    {
     "name": "stdout",
     "output_type": "stream",
     "text": [
      "[[1, 0], [1, 1], [1, 2], [1, 3], [1, 4], [1, 5], [1, 6], [1, 7], [1, 8], [1, 9]]\n",
      "[-1, -1, -1, -1, -1, 1, 1, 1, 1, 1]\n"
     ]
    },
    {
     "ename": "SyntaxError",
     "evalue": "can't use starred expression here (<ipython-input-8-3e9578567025>, line 5)",
     "output_type": "error",
     "traceback": [
      "\u001b[0;36m  File \u001b[0;32m\"<ipython-input-8-3e9578567025>\"\u001b[0;36m, line \u001b[0;32m5\u001b[0m\n\u001b[0;31m    *[-1]*5\u001b[0m\n\u001b[0m    ^\u001b[0m\n\u001b[0;31mSyntaxError\u001b[0m\u001b[0;31m:\u001b[0m can't use starred expression here\n"
     ]
    }
   ],
   "source": [
    "x_data = [[1,x] for x in range(10)]\n",
    "print(x_data)\n",
    "y_data = [*[-1]*5, *[1]*5]\n",
    "print(y_data)"
   ]
  },
  {
   "cell_type": "code",
   "execution_count": 52,
   "id": "played-command",
   "metadata": {},
   "outputs": [],
   "source": [
    "perc.fit(x_data, y_data)"
   ]
  },
  {
   "cell_type": "code",
   "execution_count": 61,
   "id": "japanese-battery",
   "metadata": {},
   "outputs": [
    {
     "data": {
      "text/plain": [
       "[-1, -1, -1, -1, -1, 1, 1, 1, 1, 1]"
      ]
     },
     "execution_count": 61,
     "metadata": {},
     "output_type": "execute_result"
    }
   ],
   "source": [
    "[perc.predict(x) for x in x_data]"
   ]
  },
  {
   "cell_type": "code",
   "execution_count": null,
   "id": "boxed-tribute",
   "metadata": {},
   "outputs": [],
   "source": []
  }
 ],
 "metadata": {
  "kernelspec": {
   "display_name": "Python 3",
   "language": "python",
   "name": "python3"
  },
  "language_info": {
   "codemirror_mode": {
    "name": "ipython",
    "version": 3
   },
   "file_extension": ".py",
   "mimetype": "text/x-python",
   "name": "python",
   "nbconvert_exporter": "python",
   "pygments_lexer": "ipython3",
   "version": "3.8.5"
  }
 },
 "nbformat": 4,
 "nbformat_minor": 5
}
