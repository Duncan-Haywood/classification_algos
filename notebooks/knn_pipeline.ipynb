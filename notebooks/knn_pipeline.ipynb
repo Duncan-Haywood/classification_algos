{
 "cells": [
  {
   "cell_type": "code",
   "execution_count": 7,
   "id": "public-myrtle",
   "metadata": {},
   "outputs": [],
   "source": [
    "# from knn import Knn\n",
    "# from perceptron import Perceptron\n",
    "import pandas as pd\n",
    "from IPython.display import display"
   ]
  },
  {
   "cell_type": "code",
   "execution_count": null,
   "id": "funny-madness",
   "metadata": {},
   "outputs": [],
   "source": [
    "## load dataframes for use from local files"
   ]
  },
  {
   "cell_type": "code",
   "execution_count": 13,
   "id": "round-snowboard",
   "metadata": {},
   "outputs": [],
   "source": []
  },
  {
   "cell_type": "code",
   "execution_count": 14,
   "id": "chubby-gravity",
   "metadata": {},
   "outputs": [],
   "source": [
    "## predict, store\n",
    "def knn_predict(df, p):\n",
    "    df.copy()\n",
    "    knn_pred = list()\n",
    "    for row, index in df_test.iterrows():\n",
    "        classification = Knn.predict(row)\n",
    "        knn_pred.append(classification)\n",
    "    df['knn_pred_p{}'.format(p)]=knn_pred\n",
    "    return df\n",
    "# def knn_eval(##insert needed params):\n",
    "    # sklearn.metrics.some_metric(y=df_test.class_label, y_pred = df['knn_pred_p{}'.format(p)])"
   ]
  },
  {
   "cell_type": "code",
   "execution_count": null,
   "id": "focal-reference",
   "metadata": {},
   "outputs": [],
   "source": []
  },
  {
   "cell_type": "code",
   "execution_count": 19,
   "id": "final-genealogy",
   "metadata": {},
   "outputs": [],
   "source": [
    "## fine tuning perhaps if you'd like for k param and maybe optimizer for perceptron, other params, only if accuracy matters. "
   ]
  },
  {
   "cell_type": "code",
   "execution_count": 1,
   "id": "coupled-durham",
   "metadata": {},
   "outputs": [],
   "source": [
    "## save predictions to data frame and save to pickle file (see pandas to pickle for this)"
   ]
  },
  {
   "cell_type": "code",
   "execution_count": null,
   "id": "final-strategy",
   "metadata": {},
   "outputs": [],
   "source": []
  }
 ],
 "metadata": {
  "kernelspec": {
   "display_name": "Python 3",
   "language": "python",
   "name": "python3"
  },
  "language_info": {
   "codemirror_mode": {
    "name": "ipython",
    "version": 3
   },
   "file_extension": ".py",
   "mimetype": "text/x-python",
   "name": "python",
   "nbconvert_exporter": "python",
   "pygments_lexer": "ipython3",
   "version": "3.8.5"
  }
 },
 "nbformat": 4,
 "nbformat_minor": 5
}
