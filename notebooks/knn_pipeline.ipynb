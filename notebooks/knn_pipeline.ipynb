{
 "cells": [
  {
   "cell_type": "code",
   "execution_count": 2,
   "metadata": {},
   "outputs": [],
   "source": [
    "from knn import Knn\n",
    "from perceptron import Perceptron\n",
    "import pandas as pd\n",
    "from IPython.display import display"
   ]
  },
  {
   "cell_type": "code",
   "execution_count": null,
   "metadata": {},
   "outputs": [],
   "source": [
    "## load dataframes for use from local files"
   ]
  },
  {
   "cell_type": "code",
   "execution_count": 3,
   "metadata": {},
   "outputs": [],
   "source": [
    "## predict, store\n",
    "def knn_predict(df, p):\n",
    "    df.copy()\n",
    "    knn_pred = list()\n",
    "    for row, index in df_test.iterrows():\n",
    "        classification = Knn.predict(row)\n",
    "        knn_pred.append(classification)\n",
    "    df['knn_pred_p{}'.format(p)]= knn_pred\n",
    "    return df\n",
    "def knn_eval(##insert needed params):\n",
    "    \n",
    "\n",
    "    # sklearn.metrics.some_metric(y=df_test.class_label, y_pred = df['knn_pred_p{}'.format(p)])"
   ]
  },
  {
   "cell_type": "code",
   "execution_count": null,
   "metadata": {},
   "outputs": [],
   "source": [
    "def euclidian_dist(p1, p2):\n",
    "    dim, sum_ = len(p1), 0\n",
    "    for index in range(dim - 1):\n",
    "        sum_ += math.pow(p1[index] - p2[index], 2)\n",
    "    return math.sqrt(sum_)\n"
   ]
  },
  {
   "cell_type": "code",
   "execution_count": null,
   "metadata": {},
   "outputs": [],
   "source": [
    "#distances put in dictionary and sorted to get knn\n",
    "def knn(train_set, new_sample, K):\n",
    "    dists, train_size = {}, len(train_set)\n",
    "    \n",
    "    for i in range(train_size):\n",
    "        d = euclidian_dist(train_set[i], new_sample)\n",
    "        dists[i] = d\n",
    "    \n",
    "    k_neighbors = sorted(dists, key=dists.get)[:K]\n",
    "    \n",
    "#count labels\n",
    "    qty_label1, qty_label2 = 0, 0\n",
    "    for index in k_neighbors:\n",
    "        if train_set[index][-1] == 1:\n",
    "            qty_label1 += 1\n",
    "        else:\n",
    "            qty_label2 += 1\n",
    "            \n",
    "    if qty_label1 > qty_label2:\n",
    "        return 1\n",
    "    else:\n",
    "        return 2"
   ]
  },
  {
   "cell_type": "code",
   "execution_count": null,
   "metadata": {},
   "outputs": [],
   "source": [
    "correct, K = 0, 15\n",
    "for sample in test_set:\n",
    "    label = knn(train_set, sample, K)\n",
    "    if sample[-1] == label:\n",
    "        correct += 1"
   ]
  },
  {
   "cell_type": "code",
   "execution_count": null,
   "metadata": {},
   "outputs": [],
   "source": [
    "print(\"Train set size: %d\" % len(train_set))\n",
    "print(\"Test set size: %d\" % len(test_set))\n",
    "print(\"Correct predicitons: %d\" % correct)\n",
    "print(\"Accuracy: %.2f%%\" % (100 * correct / len(train_set)))"
   ]
  },
  {
   "cell_type": "code",
   "execution_count": null,
   "metadata": {},
   "outputs": [],
   "source": [
    "## fine tuning perhaps if you'd like for k param and maybe optimizer for perceptron, other params, only if accuracy matters."
   ]
  },
  {
   "cell_type": "code",
   "execution_count": null,
   "metadata": {},
   "outputs": [],
   "source": [
    "## save predictions to data frame and save to pickle file (see pandas to pickle for this)"
   ]
  }
 ],
 "metadata": {
  "kernelspec": {
   "display_name": "Python 3",
   "language": "python",
   "name": "python3"
  },
  "language_info": {
   "codemirror_mode": {
    "name": "ipython",
    "version": 3
   },
   "file_extension": ".py",
   "mimetype": "text/x-python",
   "name": "python",
   "nbconvert_exporter": "python",
   "pygments_lexer": "ipython3",
   "version": "3.8.5"
  }
 },
 "nbformat": 4,
 "nbformat_minor": 4
}
