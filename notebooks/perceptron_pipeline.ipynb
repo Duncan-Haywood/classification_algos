{
 "cells": [
  {
   "cell_type": "code",
   "execution_count": 3,
   "id": "sitting-israeli",
   "metadata": {},
   "outputs": [
    {
     "ename": "ModuleNotFoundError",
     "evalue": "No module named 'perceptron'",
     "output_type": "error",
     "traceback": [
      "\u001b[0;31m---------------------------------------------------------------------------\u001b[0m",
      "\u001b[0;31mModuleNotFoundError\u001b[0m                       Traceback (most recent call last)",
      "\u001b[0;32m<ipython-input-3-bb023796d976>\u001b[0m in \u001b[0;36m<module>\u001b[0;34m\u001b[0m\n\u001b[0;32m----> 1\u001b[0;31m \u001b[0;32mfrom\u001b[0m \u001b[0mperceptron\u001b[0m \u001b[0;32mimport\u001b[0m \u001b[0mPerceptron\u001b[0m\u001b[0;34m\u001b[0m\u001b[0;34m\u001b[0m\u001b[0m\n\u001b[0m\u001b[1;32m      2\u001b[0m \u001b[0;32mfrom\u001b[0m \u001b[0mIPython\u001b[0m\u001b[0;34m.\u001b[0m\u001b[0mdisplay\u001b[0m \u001b[0;32mimport\u001b[0m \u001b[0mdisplay\u001b[0m\u001b[0;34m\u001b[0m\u001b[0;34m\u001b[0m\u001b[0m\n",
      "\u001b[0;31mModuleNotFoundError\u001b[0m: No module named 'perceptron'"
     ]
    }
   ],
   "source": [
    "from perceptron import Perceptron\n",
    "from IPython.display import display"
   ]
  },
  {
   "cell_type": "code",
   "execution_count": 1,
   "id": "charged-museum",
   "metadata": {},
   "outputs": [
    {
     "ename": "SyntaxError",
     "evalue": "unexpected EOF while parsing (<ipython-input-1-7bc988c0f2ee>, line 8)",
     "output_type": "error",
     "traceback": [
      "\u001b[0;36m  File \u001b[0;32m\"<ipython-input-1-7bc988c0f2ee>\"\u001b[0;36m, line \u001b[0;32m8\u001b[0m\n\u001b[0;31m    #     # sklearn.metrics.some_metric(y=df_test.class_label, y_pred = df['knn_pred_p{}'.format(p)]) ##f1 score, maybe literal misclassfication score if in sklearn; might different one for multiclass\u001b[0m\n\u001b[0m                                                                                                                                                                                                        ^\u001b[0m\n\u001b[0;31mSyntaxError\u001b[0m\u001b[0;31m:\u001b[0m unexpected EOF while parsing\n"
     ]
    }
   ],
   "source": [
    "def perceptron_optimize():\n",
    "    pass ## difficult\n",
    "def perceptron_predict():\n",
    "    ## look at call signature, look at what we need for it's requirements -- it could use betterdocumentation to figure that out. \n",
    "#     Perceptron.predict(\"\"\"pass in parameters here needed for algorithm\"\"\")\n",
    "    ##pretty much the same idea as knn_predict; similar code\n",
    "# def perceptron_eval(\"\"\"insert needed params\"\"\"):\n",
    "#     # sklearn.metrics.some_metric(y=df_test.class_label, y_pred = df['knn_pred_p{}'.format(p)]) ##f1 score, maybe literal misclassfication score if in sklearn; might different one for multiclass"
   ]
  },
  {
   "cell_type": "code",
   "execution_count": null,
   "id": "vanilla-niger",
   "metadata": {},
   "outputs": [],
   "source": [
    "## fine tuning perhaps if you'd like for k param and maybe optimizer for perceptron, other params, only if accuracy matters. "
   ]
  }
 ],
 "metadata": {
  "kernelspec": {
   "display_name": "Python 3",
   "language": "python",
   "name": "python3"
  },
  "language_info": {
   "codemirror_mode": {
    "name": "ipython",
    "version": 3
   },
   "file_extension": ".py",
   "mimetype": "text/x-python",
   "name": "python",
   "nbconvert_exporter": "python",
   "pygments_lexer": "ipython3",
   "version": "3.8.5"
  }
 },
 "nbformat": 4,
 "nbformat_minor": 5
}
